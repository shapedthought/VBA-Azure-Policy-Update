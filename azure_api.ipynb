{
 "cells": [
  {
   "cell_type": "markdown",
   "metadata": {},
   "source": [
    "### Veeam Backup for Azure job update\n",
    "\n",
    "This Notebook shows how you can perform updates to multiple policies in Veeam Backup for Azure. \n",
    "\n",
    "First as this is Python we need to import all the packages, note that requests needs to be installed. \n",
    "\n",
    "    pip install requests\n",
    "\n",
    "This is all based on the Veeam helpcenter: https://helpcenter.veeam.com/docs/vbazure/rest/editing_backup_policy_by_policy_id.html?ver=10"
   ]
  },
  {
   "cell_type": "code",
   "execution_count": 279,
   "metadata": {},
   "outputs": [],
   "source": [
    "import requests\n",
    "import urllib3\n",
    "import pprint\n",
    "import getpass\n",
    "urllib3.disable_warnings()"
   ]
  },
  {
   "cell_type": "markdown",
   "metadata": {},
   "source": [
    "Enter the VBA credentials"
   ]
  },
  {
   "cell_type": "code",
   "execution_count": 280,
   "metadata": {},
   "outputs": [
    {
     "name": "stdin",
     "output_type": "stream",
     "text": [
      "Enter VBA IP:  11.11.11.11\n",
      "Enter Username:  test\n",
      "Enter password:  ······\n"
     ]
    }
   ],
   "source": [
    "ip = input('Enter VBA IP: ')\n",
    "url = f\"https://{ip}/api/oauth2/token\"\n",
    "username = input('Enter Username: ')\n",
    "password = getpass.getpass(\"Enter password: \")"
   ]
  },
  {
   "cell_type": "markdown",
   "metadata": {},
   "source": [
    "Log into VBA and get the access token, this requires building a body object (data) and the header object."
   ]
  },
  {
   "cell_type": "code",
   "execution_count": 272,
   "metadata": {},
   "outputs": [
    {
     "name": "stdout",
     "output_type": "stream",
     "text": [
      "Status code: 200\n"
     ]
    }
   ],
   "source": [
    "data = {\"grant_type\" : \"password\", \"username\" : username, \"password\": password}\n",
    "headers = {'Content-Type': 'application/json', 'Accept': 'application/json'}\n",
    "\n",
    "res = requests.post(url, data=data, verify=False)\n",
    "\n",
    "print(f\"Status code: {res.status_code}\")\n",
    "res_json = res.json()\n",
    "access_token = res_json.get('access_token')\n",
    "# print(res_json)"
   ]
  },
  {
   "cell_type": "markdown",
   "metadata": {},
   "source": [
    "Add the access token to the header"
   ]
  },
  {
   "cell_type": "code",
   "execution_count": 273,
   "metadata": {},
   "outputs": [],
   "source": [
    "headers['Authorization'] = \"Bearer \" + access_token"
   ]
  },
  {
   "cell_type": "markdown",
   "metadata": {},
   "source": [
    "Make request to get policies"
   ]
  },
  {
   "cell_type": "code",
   "execution_count": 274,
   "metadata": {},
   "outputs": [
    {
     "name": "stdout",
     "output_type": "stream",
     "text": [
      "{'_links': {'self': {'href': 'https://51.140.176.204:443/api/v1/policies?usn=0&offset=0&limit=-1'}},\n",
      " 'limit': -1,\n",
      " 'offset': 0,\n",
      " 'results': [{'_links': {'excludeditems': {'href': 'https://51.140.176.204/api/v1/policies/7c8a6e8b-af06-4f76-8d32-c9cdd5423b18/excludedItems'},\n",
      "                         'selecteditems': {'href': 'https://51.140.176.204/api/v1/policies/7c8a6e8b-af06-4f76-8d32-c9cdd5423b18/selectedItems'},\n",
      "                         'self': {'href': 'https://51.140.176.204/api/v1/policies/7c8a6e8b-af06-4f76-8d32-c9cdd5423b18'},\n",
      "                         'targetrepository': {'href': 'https://51.140.176.204/api/v1/repositories/1'}},\n",
      "              'backupSettings': {'retentionSettings': {'retentionDurationType': 'Daily',\n",
      "                                                       'timeRetentionDuration': 10},\n",
      "                                 'targetRepositoryId': '1'},\n",
      "              'backupType': 'SelectedItems',\n",
      "              'description': '',\n",
      "              'excludedItemsCount': 0,\n",
      "              'id': '7c8a6e8b-af06-4f76-8d32-c9cdd5423b18',\n",
      "              'isEnabled': True,\n",
      "              'name': 'First',\n",
      "              'priority': 1,\n",
      "              'retrySettings': {'retryCount': 3},\n",
      "              'tenantId': '92b77594-14f3-405e-9edc-f507fab9cad1',\n",
      "              'usn': 8}],\n",
      " 'totalCount': 1}\n"
     ]
    }
   ],
   "source": [
    "export_policies = f'https://{ip}/api/v1/policies/export'\n",
    "\n",
    "res = requests.post(export_policies, headers=headers, verify=False).json()\n",
    "\n",
    "# policy = res['results'][0]\n",
    "\n",
    "pprint.pprint(res)"
   ]
  },
  {
   "cell_type": "markdown",
   "metadata": {},
   "source": [
    "Need to grab all the relevant attributes that we will need including, name, id and tenantId and construct a new object to use to update the policy.\n",
    "\n",
    "Also going to build a list of the policy ids to iterate over, I could use object above but it's just easier to create a new list."
   ]
  },
  {
   "cell_type": "code",
   "execution_count": 275,
   "metadata": {},
   "outputs": [
    {
     "name": "stdout",
     "output_type": "stream",
     "text": [
      "[{'name': 'First', 'id': '7c8a6e8b-af06-4f76-8d32-c9cdd5423b18', 'tendantId': '92b77594-14f3-405e-9edc-f507fab9cad1'}]\n"
     ]
    }
   ],
   "source": [
    "attributes = []\n",
    "\n",
    "for item in res['results']:\n",
    "    name = item['name']\n",
    "    ident = item['id']\n",
    "    tenantId = item['tenantId']\n",
    "    new_object= {'name': name, 'id': ident, 'tendantId': tenantId}\n",
    "    attributes.append(new_object)\n",
    "\n",
    "policy_ids = [item['id'] for item in res['results']]\n",
    "print(attributes)"
   ]
  },
  {
   "cell_type": "markdown",
   "metadata": {},
   "source": [
    "We also need to get a list of VMs in each policy, to do this we need to send a new GET request to the 'selectedItems' end point then add that to the above object."
   ]
  },
  {
   "cell_type": "code",
   "execution_count": 276,
   "metadata": {},
   "outputs": [
    {
     "name": "stdout",
     "output_type": "stream",
     "text": [
      "[{'id': '7c8a6e8b-af06-4f76-8d32-c9cdd5423b18',\n",
      "  'name': 'First',\n",
      "  'tendantId': '92b77594-14f3-405e-9edc-f507fab9cad1',\n",
      "  'virtualMachines': [{'id': 'fpfopfpera43g4f4uxf9mqhj9kuj7qpzyc6fsi99k8tjgb14t1oy'}]}]\n"
     ]
    }
   ],
   "source": [
    "policy_vms = []\n",
    "policy_num = 0\n",
    "\n",
    "for policy in policy_ids:\n",
    "    ps = requests.get(f'https://{ip}/api/v1/policies/{policy}/selectedItems', headers=headers, verify=False).json()\n",
    "    pvms = [item['virtualMachine']['id'] for item in ps['results']]\n",
    "    vm_list = []\n",
    "    for vms in pvms:\n",
    "        vm_list.append({'id': vms})\n",
    "    attributes[policy_num]['virtualMachines'] = vm_list\n",
    "    policy_num += 1\n",
    "\n",
    "pprint.pprint(attributes)"
   ]
  },
  {
   "cell_type": "markdown",
   "metadata": {},
   "source": [
    "Next we will update the template policy that was copied from VBA and update it with each of the new updated policies. Each of them will be held in a list of dictionaries.\n",
    "\n",
    "Note that this only shows a backup, no snapshots are configured in this policy."
   ]
  },
  {
   "cell_type": "code",
   "execution_count": 277,
   "metadata": {},
   "outputs": [
    {
     "name": "stdout",
     "output_type": "stream",
     "text": [
      "[{'backupSettings': {'retentionSettings': {'retentionDurationType': 'Daily',\n",
      "                                           'timeRetentionDuration': 10},\n",
      "                     'schedule': {'dailyTime': '20:00:00',\n",
      "                                  'dailyType': 'Everyday',\n",
      "                                  'frequencyType': 'Daily',\n",
      "                                  'selectedDays': ['Sunday',\n",
      "                                                   'Monday',\n",
      "                                                   'Tuesday',\n",
      "                                                   'Wednesday',\n",
      "                                                   'Thursday',\n",
      "                                                   'Friday',\n",
      "                                                   'Saturday']},\n",
      "                     'targetRepositoryId': '1'},\n",
      "  'backupType': 'SelectedItems',\n",
      "  'description': '',\n",
      "  'excludedItems': {'virtualMachines': []},\n",
      "  'isEnabled': True,\n",
      "  'name': 'First',\n",
      "  'priority': 1,\n",
      "  'regions': [{'regionId': 'uksouth'}],\n",
      "  'retrySettings': {'retryCount': 3},\n",
      "  'selectedItems': {'resourceGroups': [],\n",
      "                    'subscriptions': [],\n",
      "                    'tags': [],\n",
      "                    'virtualMachines': [{'id': 'fpfopfpera43g4f4uxf9mqhj9kuj7qpzyc6fsi99k8tjgb14t1oy'}]},\n",
      "  'tenantId': '92b77594-14f3-405e-9edc-f507fab9cad1'}]\n"
     ]
    }
   ],
   "source": [
    "# Policy Template\n",
    "policy_update = {\n",
    "    \"name\": \"\",\n",
    "    \"description\": \"\",\n",
    "    \"isEnabled\": True,\n",
    "    \"priority\": 1,\n",
    "    \"tenantId\": \"\",\n",
    "    \"backupType\": \"SelectedItems\",\n",
    "    \"regions\": [\n",
    "        {\n",
    "            \"regionId\": \"uksouth\"\n",
    "        }\n",
    "    ],\n",
    "    \"selectedItems\": {\n",
    "        \"subscriptions\": [],\n",
    "        \"resourceGroups\": [],\n",
    "        \"tags\": [],\n",
    "        \"virtualMachines\": [\n",
    "            {\n",
    "                \"id\": \"\"\n",
    "            }\n",
    "        ]\n",
    "    },\n",
    "    \"excludedItems\": {\n",
    "        \"virtualMachines\": []\n",
    "    },\n",
    "    \"backupSettings\": {\n",
    "        \"targetRepositoryId\": \"1\",\n",
    "        \"retentionSettings\": {\n",
    "            \"retentionDurationType\": \"Daily\",\n",
    "            \"timeRetentionDuration\": 4\n",
    "        },\n",
    "        \"schedule\": {\n",
    "            \"frequencyType\": \"Daily\",\n",
    "            \"dailyTime\": \"20:00:00\",\n",
    "            \"dailyType\": \"Everyday\",\n",
    "            \"selectedDays\": [\n",
    "                \"Sunday\",\n",
    "                \"Monday\",\n",
    "                \"Tuesday\",\n",
    "                \"Wednesday\",\n",
    "                \"Thursday\",\n",
    "                \"Friday\",\n",
    "                \"Saturday\"\n",
    "            ]\n",
    "        }\n",
    "    },\n",
    "    \"retrySettings\": {\n",
    "        \"retryCount\": 3\n",
    "    }\n",
    "}\n",
    "\n",
    "policies = []\n",
    "\n",
    "# looping through each of the attribute objects and creating a new Policy object that we can use.\n",
    "for item in attributes:\n",
    "    policy_update['name'] = item['name']\n",
    "    policy_update['tenantId'] = item['tendantId']\n",
    "    policy_update['selectedItems']['virtualMachines'] = item['virtualMachines']\n",
    "    policy_update['backupSettings']['retentionSettings']['timeRetentionDuration'] = 10 # making a single change to the retetnion\n",
    "    policies.append(policy_update)\n",
    "    \n",
    "pprint.pprint(policies)"
   ]
  },
  {
   "cell_type": "markdown",
   "metadata": {},
   "source": [
    "Next loop through the policy ids sending a PUT request to the API to make the changes to the policies."
   ]
  },
  {
   "cell_type": "code",
   "execution_count": 267,
   "metadata": {},
   "outputs": [
    {
     "name": "stdout",
     "output_type": "stream",
     "text": [
      "Upate OK\n",
      "[<Response [204]>]\n"
     ]
    }
   ],
   "source": [
    "# Lists to hold the response codes and responses from the calls\n",
    "status_codes = []\n",
    "responses = []\n",
    "\n",
    "# Loop through each of the attributes first as they hold the policy id\n",
    "for item in attributes:\n",
    "    policy_url = f'https://{ip}/api/v1/policies/{item['id']}'  \n",
    "    # Next loop through the policies\n",
    "    for policy in policies:\n",
    "        # Where there is a matching name we send the request with the new policy dictionary converted to JSON (json = policy)\n",
    "        if policy['name'] == item['name']:\n",
    "            res = requests.put(policy_url, headers=headers, json=policy, verify=False)\n",
    "            # Update each of the response arrays\n",
    "            status_codes.append(res.status_code)\n",
    "            responses.append(res)\n",
    "\n",
    "for item in status_codes:\n",
    "    if item == 204:\n",
    "        print(\"Upate OK\")\n",
    "    else:\n",
    "        print('Update Error')\n",
    "\n",
    "print(responses)    \n"
   ]
  },
  {
   "cell_type": "markdown",
   "metadata": {},
   "source": [
    "Finally you'll want to delete the headers with the access token"
   ]
  },
  {
   "cell_type": "code",
   "execution_count": 278,
   "metadata": {},
   "outputs": [
    {
     "name": "stdout",
     "output_type": "stream",
     "text": [
      "[]\n"
     ]
    }
   ],
   "source": [
    "headers = []\n",
    "print(headers)"
   ]
  },
  {
   "cell_type": "markdown",
   "metadata": {},
   "source": [
    "All done! See simple :)"
   ]
  }
 ],
 "metadata": {
  "kernelspec": {
   "display_name": "Python 3",
   "language": "python",
   "name": "python3"
  },
  "language_info": {
   "codemirror_mode": {
    "name": "ipython",
    "version": 3
   },
   "file_extension": ".py",
   "mimetype": "text/x-python",
   "name": "python",
   "nbconvert_exporter": "python",
   "pygments_lexer": "ipython3",
   "version": "3.9.1"
  },
  "toc-showtags": false
 },
 "nbformat": 4,
 "nbformat_minor": 4
}
